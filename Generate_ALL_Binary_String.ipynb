{
 "cells": [
  {
   "cell_type": "markdown",
   "metadata": {},
   "source": [
    "# First Competitive Programming Problem\n",
    "Generate All Binary Strings¶\n",
    "  if n=2 ['00', '01', '10', '11']\n",
    "  if n=3 ['000', '001', '010', '011', '100', '101', '110', '111']\n",
    "  if n=4 ['0000', '0001', '0010', '0011', '0100', '0101', '0110', '0111', '1000', '1001', '1010', '1011', '1100',           '1101', '1110', '1111']"
   ]
  },
  {
   "cell_type": "code",
   "execution_count": null,
   "metadata": {},
   "outputs": [],
   "source": [
    "def append_bits(x, L):\n",
    "    return [x + element for element in    L]\n",
    "\n",
    "def generate_bit(n):\n",
    "    if n == 0: return []\n",
    "    if n == 1: return [\"0\", \"1\"]\n",
    "    else:\n",
    "        return (append_bits(\"0\", generate_bit(n - 1)) + \n",
    "                append_bits(\"1\", generate_bit(n - 1)))\n",
    "                \n",
    "print(generate_bit(91))"
   ]
  },
  {
   "cell_type": "code",
   "execution_count": 1,
   "metadata": {},
   "outputs": [
    {
     "name": "stdout",
     "output_type": "stream",
     "text": [
      "hello \n"
     ]
    }
   ],
   "source": [
    "print(\"hello \")"
   ]
  },
  {
   "cell_type": "code",
   "execution_count": null,
   "metadata": {},
   "outputs": [],
   "source": []
  }
 ],
 "metadata": {
  "kernelspec": {
   "display_name": "Python 3",
   "language": "python",
   "name": "python3"
  },
  "language_info": {
   "codemirror_mode": {
    "name": "ipython",
    "version": 3
   },
   "file_extension": ".py",
   "mimetype": "text/x-python",
   "name": "python",
   "nbconvert_exporter": "python",
   "pygments_lexer": "ipython3",
   "version": "3.8.5"
  }
 },
 "nbformat": 4,
 "nbformat_minor": 4
}
